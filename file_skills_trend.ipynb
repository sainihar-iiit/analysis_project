{
 "cells": [
  {
   "cell_type": "code",
   "execution_count": 2,
   "id": "63fd0c05",
   "metadata": {},
   "outputs": [],
   "source": [
    "import pandas as pd\n",
    "import matplotlib.pyplot as plt\n",
    "import seaborn as sns\n",
    "import ast\n",
    "from datasets import load_dataset\n",
    "dataset = load_dataset('lukebarousse/data_jobs')\n",
    "df =dataset['train'].to_pandas()\n",
    "df['job_posted_date'] = pd.to_datetime(df['job_posted_date'])\n",
    "df['job_skills'] = df['job_skills'].apply(lambda x: ast.literal_eval(x)  if pd.notna(x) else x)"
   ]
  },
  {
   "cell_type": "code",
   "execution_count": 3,
   "id": "140e318e",
   "metadata": {},
   "outputs": [],
   "source": [
    "df['job_posted_month'] =df['job_posted_date'].dt.strftime('%b')"
   ]
  },
  {
   "cell_type": "code",
   "execution_count": 45,
   "id": "56852f8a",
   "metadata": {},
   "outputs": [],
   "source": [
    "df22 =df[(df['job_country']=='United States') & (df['job_title_short']=='Data Analyst')]"
   ]
  },
  {
   "cell_type": "code",
   "execution_count": 48,
   "id": "14380316",
   "metadata": {},
   "outputs": [],
   "source": [
    "da1  =df22.groupby('job_posted_month').size()"
   ]
  },
  {
   "cell_type": "code",
   "execution_count": null,
   "id": "f6275a00",
   "metadata": {},
   "outputs": [],
   "source": [
    "da1"
   ]
  },
  {
   "cell_type": "code",
   "execution_count": 50,
   "id": "442b2606",
   "metadata": {},
   "outputs": [],
   "source": [
    "\n",
    "month_order = ['Jan', 'Feb', 'Mar', 'Apr', 'May', 'Jun',\n",
    "               'Jul', 'Aug', 'Sep', 'Oct', 'Nov', 'Dec']\n",
    "\n",
    "\n",
    "da1 = da1.reindex(month_order)\n"
   ]
  },
  {
   "cell_type": "code",
   "execution_count": null,
   "id": "75ed8cd8",
   "metadata": {},
   "outputs": [],
   "source": [
    "da1"
   ]
  },
  {
   "cell_type": "code",
   "execution_count": 56,
   "id": "58301cd6",
   "metadata": {},
   "outputs": [],
   "source": [
    "df_us_da = df[(df['job_country']=='United States') & (df['job_title_short']=='Data Analyst')]"
   ]
  },
  {
   "cell_type": "code",
   "execution_count": 57,
   "id": "b227a402",
   "metadata": {},
   "outputs": [],
   "source": [
    "df_us_da = df_us_da.explode('job_skills').copy()"
   ]
  },
  {
   "cell_type": "code",
   "execution_count": 58,
   "id": "a53f11fc",
   "metadata": {},
   "outputs": [],
   "source": [
    "df_us1 =df_us_da.pivot_table(columns ='job_skills',index='job_posted_month',aggfunc='size',fill_value=0)"
   ]
  },
  {
   "cell_type": "code",
   "execution_count": 59,
   "id": "fbb1ea02",
   "metadata": {},
   "outputs": [],
   "source": [
    "\n",
    "month_order = ['Jan', 'Feb', 'Mar', 'Apr', 'May', 'Jun',\n",
    "               'Jul', 'Aug', 'Sep', 'Oct', 'Nov', 'Dec']\n",
    "\n",
    "\n",
    "df_us1 = df_us1.reindex(month_order)\n"
   ]
  },
  {
   "cell_type": "code",
   "execution_count": 60,
   "id": "5f328eb2",
   "metadata": {},
   "outputs": [],
   "source": [
    "df_us1.loc['Total'] = df_us1.sum()"
   ]
  },
  {
   "cell_type": "code",
   "execution_count": null,
   "id": "4d36b03e",
   "metadata": {},
   "outputs": [],
   "source": [
    "df_us1"
   ]
  },
  {
   "cell_type": "code",
   "execution_count": 62,
   "id": "9b883bc3",
   "metadata": {},
   "outputs": [],
   "source": [
    "df_us1 =df_us1[df_us1.loc['Total'].sort_values(ascending =False).index]"
   ]
  },
  {
   "cell_type": "code",
   "execution_count": 63,
   "id": "edb02284",
   "metadata": {},
   "outputs": [],
   "source": [
    "df_us1 = df_us1.drop('Total')"
   ]
  },
  {
   "cell_type": "code",
   "execution_count": null,
   "id": "694eb8b7",
   "metadata": {},
   "outputs": [],
   "source": [
    "df_us1"
   ]
  },
  {
   "cell_type": "code",
   "execution_count": 65,
   "id": "b1bf8204",
   "metadata": {},
   "outputs": [],
   "source": [
    "df_us1 = df_us1.div(da1/100,axis=0)"
   ]
  },
  {
   "cell_type": "code",
   "execution_count": null,
   "id": "36569758",
   "metadata": {},
   "outputs": [],
   "source": [
    "df_us1"
   ]
  },
  {
   "cell_type": "code",
   "execution_count": 68,
   "id": "9351f2db",
   "metadata": {},
   "outputs": [],
   "source": [
    "df_f = df_us1.iloc[:, :5]"
   ]
  },
  {
   "cell_type": "code",
   "execution_count": 69,
   "id": "a4255b0e",
   "metadata": {},
   "outputs": [
    {
     "data": {
      "text/html": [
       "<div>\n",
       "<style scoped>\n",
       "    .dataframe tbody tr th:only-of-type {\n",
       "        vertical-align: middle;\n",
       "    }\n",
       "\n",
       "    .dataframe tbody tr th {\n",
       "        vertical-align: top;\n",
       "    }\n",
       "\n",
       "    .dataframe thead th {\n",
       "        text-align: right;\n",
       "    }\n",
       "</style>\n",
       "<table border=\"1\" class=\"dataframe\">\n",
       "  <thead>\n",
       "    <tr style=\"text-align: right;\">\n",
       "      <th>job_skills</th>\n",
       "      <th>sql</th>\n",
       "      <th>excel</th>\n",
       "      <th>tableau</th>\n",
       "      <th>python</th>\n",
       "      <th>sas</th>\n",
       "    </tr>\n",
       "    <tr>\n",
       "      <th>job_posted_month</th>\n",
       "      <th></th>\n",
       "      <th></th>\n",
       "      <th></th>\n",
       "      <th></th>\n",
       "      <th></th>\n",
       "    </tr>\n",
       "  </thead>\n",
       "  <tbody>\n",
       "    <tr>\n",
       "      <th>Jan</th>\n",
       "      <td>54.167648</td>\n",
       "      <td>42.288674</td>\n",
       "      <td>29.291264</td>\n",
       "      <td>26.536379</td>\n",
       "      <td>21.568166</td>\n",
       "    </tr>\n",
       "    <tr>\n",
       "      <th>Feb</th>\n",
       "      <td>51.730895</td>\n",
       "      <td>42.243632</td>\n",
       "      <td>27.367734</td>\n",
       "      <td>26.420640</td>\n",
       "      <td>19.790986</td>\n",
       "    </tr>\n",
       "    <tr>\n",
       "      <th>Mar</th>\n",
       "      <td>51.881634</td>\n",
       "      <td>42.795111</td>\n",
       "      <td>29.012544</td>\n",
       "      <td>27.066581</td>\n",
       "      <td>19.909939</td>\n",
       "    </tr>\n",
       "    <tr>\n",
       "      <th>Apr</th>\n",
       "      <td>53.231939</td>\n",
       "      <td>42.139197</td>\n",
       "      <td>29.575136</td>\n",
       "      <td>27.756654</td>\n",
       "      <td>21.524219</td>\n",
       "    </tr>\n",
       "    <tr>\n",
       "      <th>May</th>\n",
       "      <td>51.692369</td>\n",
       "      <td>42.419387</td>\n",
       "      <td>28.680152</td>\n",
       "      <td>27.017825</td>\n",
       "      <td>19.467254</td>\n",
       "    </tr>\n",
       "    <tr>\n",
       "      <th>Jun</th>\n",
       "      <td>50.360725</td>\n",
       "      <td>41.914482</td>\n",
       "      <td>28.646841</td>\n",
       "      <td>28.312511</td>\n",
       "      <td>17.314799</td>\n",
       "    </tr>\n",
       "    <tr>\n",
       "      <th>Jul</th>\n",
       "      <td>50.163430</td>\n",
       "      <td>40.722938</td>\n",
       "      <td>29.475101</td>\n",
       "      <td>27.648529</td>\n",
       "      <td>19.150163</td>\n",
       "    </tr>\n",
       "    <tr>\n",
       "      <th>Aug</th>\n",
       "      <td>51.462165</td>\n",
       "      <td>41.166717</td>\n",
       "      <td>29.409105</td>\n",
       "      <td>30.524570</td>\n",
       "      <td>19.234248</td>\n",
       "    </tr>\n",
       "    <tr>\n",
       "      <th>Sep</th>\n",
       "      <td>49.471869</td>\n",
       "      <td>38.823022</td>\n",
       "      <td>29.165768</td>\n",
       "      <td>26.492779</td>\n",
       "      <td>18.452253</td>\n",
       "    </tr>\n",
       "    <tr>\n",
       "      <th>Oct</th>\n",
       "      <td>48.833238</td>\n",
       "      <td>36.463669</td>\n",
       "      <td>27.110605</td>\n",
       "      <td>26.048188</td>\n",
       "      <td>18.212863</td>\n",
       "    </tr>\n",
       "    <tr>\n",
       "      <th>Nov</th>\n",
       "      <td>45.332156</td>\n",
       "      <td>33.833591</td>\n",
       "      <td>25.336570</td>\n",
       "      <td>23.151622</td>\n",
       "      <td>17.479585</td>\n",
       "    </tr>\n",
       "    <tr>\n",
       "      <th>Dec</th>\n",
       "      <td>46.443830</td>\n",
       "      <td>38.326213</td>\n",
       "      <td>27.142498</td>\n",
       "      <td>27.041970</td>\n",
       "      <td>19.602915</td>\n",
       "    </tr>\n",
       "  </tbody>\n",
       "</table>\n",
       "</div>"
      ],
      "text/plain": [
       "job_skills              sql      excel    tableau     python        sas\n",
       "job_posted_month                                                       \n",
       "Jan               54.167648  42.288674  29.291264  26.536379  21.568166\n",
       "Feb               51.730895  42.243632  27.367734  26.420640  19.790986\n",
       "Mar               51.881634  42.795111  29.012544  27.066581  19.909939\n",
       "Apr               53.231939  42.139197  29.575136  27.756654  21.524219\n",
       "May               51.692369  42.419387  28.680152  27.017825  19.467254\n",
       "Jun               50.360725  41.914482  28.646841  28.312511  17.314799\n",
       "Jul               50.163430  40.722938  29.475101  27.648529  19.150163\n",
       "Aug               51.462165  41.166717  29.409105  30.524570  19.234248\n",
       "Sep               49.471869  38.823022  29.165768  26.492779  18.452253\n",
       "Oct               48.833238  36.463669  27.110605  26.048188  18.212863\n",
       "Nov               45.332156  33.833591  25.336570  23.151622  17.479585\n",
       "Dec               46.443830  38.326213  27.142498  27.041970  19.602915"
      ]
     },
     "execution_count": 69,
     "metadata": {},
     "output_type": "execute_result"
    }
   ],
   "source": [
    "df_f"
   ]
  },
  {
   "cell_type": "code",
   "execution_count": 87,
   "id": "dc83c32d",
   "metadata": {},
   "outputs": [
    {
     "data": {
      "image/png": "[encoded data removed]",
      "text/plain": [
       "<Figure size 640x480 with 1 Axes>"
      ]
     },
     "metadata": {},
     "output_type": "display_data"
    }
   ],
   "source": [
    "sns.lineplot(data = df_f,dashes=False,palette='tab10')\n",
    "sns.set_theme(style='ticks')\n",
    "plt.legend().set_visible(False)\n",
    "sns.despine()\n",
    "plt.title('Trending of data analyst skills in US')\n",
    "plt.ylabel('Percentage')\n",
    "from matplotlib.ticker import PercentFormatter\n",
    "ax=plt.gca()\n",
    "ax.yaxis.set_major_formatter(PercentFormatter(decimals=0))\n",
    "for i in range(5):\n",
    "    if i==2:\n",
    "        plt.text(10,df_f.iloc[-1,i],df_f.columns[i])\n",
    "    else:\n",
    "        plt.text(11.5,df_f.iloc[-1,i],df_f.columns[i])"
   ]
  }
 ],
 "metadata": {
  "kernelspec": {
   "display_name": "base",
   "language": "python",
   "name": "python3"
  },
  "language_info": {
   "codemirror_mode": {
    "name": "ipython",
    "version": 3
   },
   "file_extension": ".py",
   "mimetype": "text/x-python",
   "name": "python",
   "nbconvert_exporter": "python",
   "pygments_lexer": "ipython3",
   "version": "3.13.5"
  }
 },
 "nbformat": 4,
 "nbformat_minor": 5
}
