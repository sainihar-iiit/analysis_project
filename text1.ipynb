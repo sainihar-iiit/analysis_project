{
 "cells": [
  {
   "cell_type": "markdown",
   "id": "b92f1a69",
   "metadata": {},
   "source": [
    "import pandas as pd\n",
    "import matplotlib.plot as plt\n",
    "import seaborn as sns\n",
    "import ast\n",
    "from dataset import load_dataset\n",
    "dataset = load_dataset('lukebarousse/data_jobs')\n",
    "df =dataset['train'].to_pandas()\n",
    "df['job_posted_date] = pd.to_datetime(df['job_posted_date'])\n",
    "df['job_skills] = df['job_skills].apply(lambda x: ast.literal_eval(x)  if pd.notna(x) else x)"
   ]
  }
 ],
 "metadata": {
  "kernelspec": {
   "display_name": "base",
   "language": "python",
   "name": "python3"
  },
  "language_info": {
   "name": "python",
   "version": "3.13.5"
  }
 },
 "nbformat": 4,
 "nbformat_minor": 5
}
